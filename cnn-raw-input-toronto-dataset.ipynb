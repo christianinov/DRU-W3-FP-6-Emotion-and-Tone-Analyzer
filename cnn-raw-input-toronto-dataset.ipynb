{
 "cells": [
  {
   "cell_type": "markdown",
   "metadata": {},
   "source": [
    "# Attempt to classify Toronto dataset samples using CNN"
   ]
  },
  {
   "cell_type": "markdown",
   "metadata": {},
   "source": [
    "## Dataset: https://tspace.library.utoronto.ca/handle/1807/24487\n",
    "#### Dataset structure: 7 folders (categories) containing wav files"
   ]
  },
  {
   "cell_type": "code",
   "execution_count": 1,
   "metadata": {
    "collapsed": true
   },
   "outputs": [],
   "source": [
    "import os\n",
    "\n",
    "from scipy.io import wavfile\n",
    "from scipy import signal\n",
    "\n",
    "import numpy as np\n",
    "\n",
    "import pandas as pd"
   ]
  },
  {
   "cell_type": "code",
   "execution_count": 2,
   "metadata": {},
   "outputs": [
    {
     "name": "stderr",
     "output_type": "stream",
     "text": [
      "/home/maria/Programs/anaconda3/lib/python3.6/importlib/_bootstrap.py:219: RuntimeWarning: compiletime version 3.5 of module 'tensorflow.python.framework.fast_tensor_util' does not match runtime version 3.6\n",
      "  return f(*args, **kwds)\n"
     ]
    }
   ],
   "source": [
    "import tensorflow as tf\n",
    "import tflearn\n",
    "from tflearn.layers.conv import conv_2d, max_pool_2d\n",
    "from tflearn.layers.core import input_data, dropout, fully_connected\n",
    "from tflearn.layers.estimator import regression"
   ]
  },
  {
   "cell_type": "code",
   "execution_count": 3,
   "metadata": {
    "collapsed": true
   },
   "outputs": [],
   "source": [
    "from tqdm import tqdm "
   ]
  },
  {
   "cell_type": "code",
   "execution_count": 4,
   "metadata": {
    "collapsed": true
   },
   "outputs": [],
   "source": [
    "from sklearn.model_selection import train_test_split"
   ]
  },
  {
   "cell_type": "code",
   "execution_count": 5,
   "metadata": {
    "collapsed": true
   },
   "outputs": [],
   "source": [
    "def wav_preloader(target_path,\n",
    "                  normalize=True,\n",
    "                  resample=None, \n",
    "                  crop=None,\n",
    "                  categorical_labels=True):\n",
    "    with open(target_path, 'r') as f:\n",
    "        wavs, labels = [], []\n",
    "        for l in f.readlines():\n",
    "            l = l.strip('\\n').split()\n",
    "            wavs.append(l[0])\n",
    "            labels.append(int(l[1]))\n",
    "\n",
    "    n_classes = np.max(labels) + 1\n",
    "    X = WavPreloader(wavs, normalize, resample, crop)\n",
    "    Y = tflearn.data_utils.LabelPreloader(labels, n_classes, categorical_labels)\n",
    "    return X, Y\n",
    "\n",
    "class WavPreloader(tflearn.data_utils.Preloader):\n",
    "    def __init__(self, array, normalize=True, resample=None, crop=None):\n",
    "        fn = lambda x: self.preload(x, normalize, resample, crop)\n",
    "        super(WavPreloader, self).__init__(array, fn)\n",
    "\n",
    "    def preload(self, path, normalize, resample, crop):\n",
    "        sample_rate, sample = wavfile.read(path)\n",
    "        if resample is not None:\n",
    "            sample = signal.resample(sample, int(resample/sample_rate * sample.shape[0]))\n",
    "        if normalize:\n",
    "            sample = sample * 1.0 / np.amax(sample)\n",
    "        if crop is not None:\n",
    "            sample = sample[-crop:]\n",
    "        return sample #.reshape(-1,1,1)"
   ]
  },
  {
   "cell_type": "code",
   "execution_count": 6,
   "metadata": {
    "collapsed": true
   },
   "outputs": [],
   "source": [
    "def create_dataset_lists(directory):\n",
    "    \n",
    "    if not os.path.exists(directory+'/dataset-txt'):\n",
    "        os.makedirs(directory+'/dataset-txt')\n",
    "\n",
    "    dataset_all = directory+'/dataset-txt/dataset-all.txt'\n",
    "    dataset_train = directory+'/dataset-txt/dataset-train.txt'\n",
    "    dataset_test = directory+'/dataset-txt/dataset-test.txt'\n",
    "    dataset_validation = directory+'/dataset-txt/dataset-validation.txt'\n",
    "\n",
    "    dataset = []\n",
    "\n",
    "    categories = [name for name in os.listdir(DATASET) \n",
    "                  if os.path.isdir(DATASET+name) and \n",
    "                  not str(DATASET+name).count('dataset-txt')]\n",
    "    category_mapping = {}\n",
    "    for i in range(len(categories)):\n",
    "        category_mapping[categories[i]] = i\n",
    "\n",
    "    for category in categories:\n",
    "        for sample in os.listdir(DATASET+category):\n",
    "            path = DATASET+category+'/'+sample\n",
    "            label = category_mapping[category]\n",
    "            dataset.append((path,label))\n",
    "\n",
    "    train, test = train_test_split(dataset, test_size=0.02)\n",
    "    test, val = train_test_split(test, test_size=0.5)\n",
    "\n",
    "    with open(dataset_all,'w') as f:\n",
    "        for (path, label) in dataset:\n",
    "            f.write('{} {}\\n'.format(path,label))\n",
    "    with open(dataset_train,'w') as f:\n",
    "        for (path, label) in train:\n",
    "            f.write('{} {}\\n'.format(path,label))                    \n",
    "    with open(dataset_test,'w') as f:\n",
    "        for (path, label) in test:\n",
    "            f.write('{} {}\\n'.format(path,label))                    \n",
    "    with open(dataset_validation,'w') as f:\n",
    "        for (path, label) in val:\n",
    "            f.write('{} {}\\n'.format(path,label))  "
   ]
  },
  {
   "cell_type": "code",
   "execution_count": 7,
   "metadata": {
    "collapsed": true
   },
   "outputs": [],
   "source": [
    "DATASET = './datasets/toronto2/'\n",
    "\n",
    "create_dataset_lists(DATASET)\n",
    "dataset_all = DATASET+'/dataset-txt/dataset-all.txt'\n",
    "dataset_train = DATASET+'/dataset-txt/dataset-train.txt'\n",
    "dataset_test = DATASET+'/dataset-txt/dataset-test.txt'\n",
    "dataset_validation = DATASET+'/dataset-txt/dataset-validation.txt'\n",
    "\n",
    "input_shape = (10000, 1)\n",
    "\n",
    "X_train, y_train = wav_preloader(dataset_train, resample=8000, crop = input_shape[0], categorical_labels=True)\n",
    "X_test, y_test = wav_preloader(dataset_test, resample=8000, crop = input_shape[0], categorical_labels=True)\n",
    "X_val, y_val = wav_preloader(dataset_validation, resample=8000, crop = input_shape[0], categorical_labels=True)"
   ]
  },
  {
   "cell_type": "code",
   "execution_count": 8,
   "metadata": {},
   "outputs": [
    {
     "name": "stdout",
     "output_type": "stream",
     "text": [
      "(10000,)\n",
      "(7,)\n"
     ]
    }
   ],
   "source": [
    "print(X_train[1].shape)\n",
    "print(y_train[0].shape)"
   ]
  },
  {
   "cell_type": "code",
   "execution_count": 9,
   "metadata": {
    "collapsed": true
   },
   "outputs": [],
   "source": [
    "def reshape_wav(X):\n",
    "    X = np.array(X).reshape([-1, input_shape[0], 1, 1])\n",
    "    return X\n",
    "\n",
    "pre_proc = tflearn.DataPreprocessing()\n",
    "pre_proc.add_custom_preprocessing(reshape_wav)"
   ]
  },
  {
   "cell_type": "code",
   "execution_count": 10,
   "metadata": {
    "collapsed": true
   },
   "outputs": [],
   "source": [
    "def create_model(input_shape, n_classes, pre_proc, LR):\n",
    "    \n",
    "    tf.reset_default_graph()\n",
    "\n",
    "    convnet = input_data(shape=[None, input_shape[0], input_shape[1], 1], name='input',\n",
    "                        data_preprocessing=pre_proc)\n",
    "\n",
    "    convnet = conv_2d(convnet, 32, 3, activation='relu')\n",
    "    convnet = max_pool_2d(convnet, 3)\n",
    "    convnet = dropout(convnet, 0.8)\n",
    "\n",
    "    convnet = fully_connected(convnet, n_classes, activation='softmax')\n",
    "    convnet = regression(convnet, optimizer='adam', learning_rate=LR, loss='categorical_crossentropy', name='targets')\n",
    "\n",
    "    model = tflearn.DNN(convnet, tensorboard_dir='log')\n",
    "    return model"
   ]
  },
  {
   "cell_type": "code",
   "execution_count": 11,
   "metadata": {},
   "outputs": [
    {
     "name": "stdout",
     "output_type": "stream",
     "text": [
      "WARNING:tensorflow:From /home/maria/Programs/anaconda3/lib/python3.6/site-packages/tflearn/initializations.py:119: UniformUnitScaling.__init__ (from tensorflow.python.ops.init_ops) is deprecated and will be removed in a future version.\n",
      "Instructions for updating:\n",
      "Use tf.initializers.variance_scaling instead with distribution=uniform to get equivalent behavior.\n"
     ]
    }
   ],
   "source": [
    "LR = 0.001\n",
    "model = create_model(input_shape=input_shape, n_classes=y_train[0].shape[0], pre_proc=pre_proc, LR=LR)"
   ]
  },
  {
   "cell_type": "code",
   "execution_count": 12,
   "metadata": {},
   "outputs": [
    {
     "name": "stdout",
     "output_type": "stream",
     "text": [
      "Training Step: 429  | total loss: \u001b[1m\u001b[32m0.02548\u001b[0m\u001b[0m | time: 995.497s\n",
      "| Adam | epoch: 010 | loss: 0.02548 - acc: 1.0000 -- iter: 2688/2744\n",
      "Training Step: 430  | total loss: \u001b[1m\u001b[32m0.02489\u001b[0m\u001b[0m | time: 1045.679s\n",
      "| Adam | epoch: 010 | loss: 0.02489 - acc: 1.0000 | val_loss: 1.23480 - val_acc: 0.6429 -- iter: 2744/2744\n",
      "--\n",
      "INFO:tensorflow:/home/maria/Projects/DRU-W3-FP-6-Emotion-and-Tone-Analyzer/model.tfl is not in all_model_checkpoint_paths. Manually adding it.\n"
     ]
    }
   ],
   "source": [
    "MODEL_NAME = 'model.tfl'\n",
    "model.fit({'input': X_train}, {'targets': y_train}, n_epoch=10, \n",
    "          validation_set=({'input': X_val}, {'targets': y_val}), \n",
    "        snapshot_step=500, show_metric=True, run_id=MODEL_NAME, shuffle=True)\n",
    "\n",
    "model.save(MODEL_NAME)    "
   ]
  },
  {
   "cell_type": "code",
   "execution_count": 14,
   "metadata": {},
   "outputs": [
    {
     "data": {
      "text/plain": [
       "[0.75]"
      ]
     },
     "execution_count": 14,
     "metadata": {},
     "output_type": "execute_result"
    }
   ],
   "source": [
    "model.evaluate(X_test, y_test)"
   ]
  },
  {
   "cell_type": "code",
   "execution_count": 15,
   "metadata": {
    "collapsed": true
   },
   "outputs": [],
   "source": [
    "res = model.predict(X_test)"
   ]
  },
  {
   "cell_type": "code",
   "execution_count": 40,
   "metadata": {},
   "outputs": [
    {
     "data": {
      "text/html": [
       "<div>\n",
       "<style>\n",
       "    .dataframe thead tr:only-child th {\n",
       "        text-align: right;\n",
       "    }\n",
       "\n",
       "    .dataframe thead th {\n",
       "        text-align: left;\n",
       "    }\n",
       "\n",
       "    .dataframe tbody tr th {\n",
       "        vertical-align: top;\n",
       "    }\n",
       "</style>\n",
       "<table border=\"1\" class=\"dataframe\">\n",
       "  <thead>\n",
       "    <tr style=\"text-align: right;\">\n",
       "      <th></th>\n",
       "      <th>Pred</th>\n",
       "      <th>Real</th>\n",
       "    </tr>\n",
       "  </thead>\n",
       "  <tbody>\n",
       "    <tr>\n",
       "      <th>0</th>\n",
       "      <td>Disgust</td>\n",
       "      <td>Disgust</td>\n",
       "    </tr>\n",
       "    <tr>\n",
       "      <th>1</th>\n",
       "      <td>Sad</td>\n",
       "      <td>Sad</td>\n",
       "    </tr>\n",
       "    <tr>\n",
       "      <th>2</th>\n",
       "      <td>Disgust</td>\n",
       "      <td>Disgust</td>\n",
       "    </tr>\n",
       "    <tr>\n",
       "      <th>3</th>\n",
       "      <td>Sad</td>\n",
       "      <td>Sad</td>\n",
       "    </tr>\n",
       "    <tr>\n",
       "      <th>4</th>\n",
       "      <td>Fear</td>\n",
       "      <td>Fear</td>\n",
       "    </tr>\n",
       "    <tr>\n",
       "      <th>5</th>\n",
       "      <td>Happy</td>\n",
       "      <td>Fear</td>\n",
       "    </tr>\n",
       "    <tr>\n",
       "      <th>6</th>\n",
       "      <td>Fear</td>\n",
       "      <td>Neutral</td>\n",
       "    </tr>\n",
       "    <tr>\n",
       "      <th>7</th>\n",
       "      <td>Neutral</td>\n",
       "      <td>Angry</td>\n",
       "    </tr>\n",
       "    <tr>\n",
       "      <th>8</th>\n",
       "      <td>Sad</td>\n",
       "      <td>Pleasant</td>\n",
       "    </tr>\n",
       "    <tr>\n",
       "      <th>9</th>\n",
       "      <td>Pleasant</td>\n",
       "      <td>Pleasant</td>\n",
       "    </tr>\n",
       "    <tr>\n",
       "      <th>10</th>\n",
       "      <td>Fear</td>\n",
       "      <td>Fear</td>\n",
       "    </tr>\n",
       "    <tr>\n",
       "      <th>11</th>\n",
       "      <td>Sad</td>\n",
       "      <td>Sad</td>\n",
       "    </tr>\n",
       "    <tr>\n",
       "      <th>12</th>\n",
       "      <td>Disgust</td>\n",
       "      <td>Disgust</td>\n",
       "    </tr>\n",
       "    <tr>\n",
       "      <th>13</th>\n",
       "      <td>Disgust</td>\n",
       "      <td>Disgust</td>\n",
       "    </tr>\n",
       "    <tr>\n",
       "      <th>14</th>\n",
       "      <td>Happy</td>\n",
       "      <td>Happy</td>\n",
       "    </tr>\n",
       "    <tr>\n",
       "      <th>15</th>\n",
       "      <td>Sad</td>\n",
       "      <td>Sad</td>\n",
       "    </tr>\n",
       "    <tr>\n",
       "      <th>16</th>\n",
       "      <td>Disgust</td>\n",
       "      <td>Happy</td>\n",
       "    </tr>\n",
       "    <tr>\n",
       "      <th>17</th>\n",
       "      <td>Angry</td>\n",
       "      <td>Pleasant</td>\n",
       "    </tr>\n",
       "    <tr>\n",
       "      <th>18</th>\n",
       "      <td>Fear</td>\n",
       "      <td>Fear</td>\n",
       "    </tr>\n",
       "    <tr>\n",
       "      <th>19</th>\n",
       "      <td>Happy</td>\n",
       "      <td>Angry</td>\n",
       "    </tr>\n",
       "    <tr>\n",
       "      <th>20</th>\n",
       "      <td>Neutral</td>\n",
       "      <td>Neutral</td>\n",
       "    </tr>\n",
       "    <tr>\n",
       "      <th>21</th>\n",
       "      <td>Angry</td>\n",
       "      <td>Angry</td>\n",
       "    </tr>\n",
       "    <tr>\n",
       "      <th>22</th>\n",
       "      <td>Pleasant</td>\n",
       "      <td>Pleasant</td>\n",
       "    </tr>\n",
       "    <tr>\n",
       "      <th>23</th>\n",
       "      <td>Neutral</td>\n",
       "      <td>Neutral</td>\n",
       "    </tr>\n",
       "    <tr>\n",
       "      <th>24</th>\n",
       "      <td>Sad</td>\n",
       "      <td>Sad</td>\n",
       "    </tr>\n",
       "    <tr>\n",
       "      <th>25</th>\n",
       "      <td>Disgust</td>\n",
       "      <td>Disgust</td>\n",
       "    </tr>\n",
       "    <tr>\n",
       "      <th>26</th>\n",
       "      <td>Disgust</td>\n",
       "      <td>Disgust</td>\n",
       "    </tr>\n",
       "    <tr>\n",
       "      <th>27</th>\n",
       "      <td>Sad</td>\n",
       "      <td>Sad</td>\n",
       "    </tr>\n",
       "  </tbody>\n",
       "</table>\n",
       "</div>"
      ],
      "text/plain": [
       "        Pred      Real\n",
       "0    Disgust   Disgust\n",
       "1        Sad       Sad\n",
       "2    Disgust   Disgust\n",
       "3        Sad       Sad\n",
       "4       Fear      Fear\n",
       "5      Happy      Fear\n",
       "6       Fear   Neutral\n",
       "7    Neutral     Angry\n",
       "8        Sad  Pleasant\n",
       "9   Pleasant  Pleasant\n",
       "10      Fear      Fear\n",
       "11       Sad       Sad\n",
       "12   Disgust   Disgust\n",
       "13   Disgust   Disgust\n",
       "14     Happy     Happy\n",
       "15       Sad       Sad\n",
       "16   Disgust     Happy\n",
       "17     Angry  Pleasant\n",
       "18      Fear      Fear\n",
       "19     Happy     Angry\n",
       "20   Neutral   Neutral\n",
       "21     Angry     Angry\n",
       "22  Pleasant  Pleasant\n",
       "23   Neutral   Neutral\n",
       "24       Sad       Sad\n",
       "25   Disgust   Disgust\n",
       "26   Disgust   Disgust\n",
       "27       Sad       Sad"
      ]
     },
     "execution_count": 40,
     "metadata": {},
     "output_type": "execute_result"
    }
   ],
   "source": [
    "y_test_labels = [np.argmax(y_test[i]) for i in range (len(y_test))]\n",
    "res_labels = [np.argmax(res[i]) for i in range (len(res))]\n",
    "df = pd.DataFrame()\n",
    "df['Pred'] = res_labels\n",
    "df['Real'] = y_test_labels\n",
    "categories = [name for name in os.listdir(DATASET) \n",
    "                  if os.path.isdir(DATASET+name) and \n",
    "                  not str(DATASET+name).count('dataset-txt')]\n",
    "category_unmapping = {}\n",
    "for i in range(len(categories)):\n",
    "    category_unmapping[i] = categories[i]\n",
    "df.replace(category_unmapping)"
   ]
  },
  {
   "cell_type": "code",
   "execution_count": null,
   "metadata": {
    "collapsed": true
   },
   "outputs": [],
   "source": []
  }
 ],
 "metadata": {
  "kernelspec": {
   "display_name": "Python 3",
   "language": "python",
   "name": "python3"
  },
  "language_info": {
   "codemirror_mode": {
    "name": "ipython",
    "version": 3
   },
   "file_extension": ".py",
   "mimetype": "text/x-python",
   "name": "python",
   "nbconvert_exporter": "python",
   "pygments_lexer": "ipython3",
   "version": "3.6.3"
  }
 },
 "nbformat": 4,
 "nbformat_minor": 2
}
