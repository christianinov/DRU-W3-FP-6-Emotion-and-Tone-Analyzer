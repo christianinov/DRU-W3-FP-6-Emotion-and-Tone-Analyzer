{
 "cells": [
  {
   "cell_type": "code",
   "execution_count": 4,
   "metadata": {
    "collapsed": true
   },
   "outputs": [],
   "source": [
    "import os\n",
    "import numpy as np\n",
    "from scipy.io import wavfile\n",
    "from python_speech_features import mfcc"
   ]
  },
  {
   "cell_type": "code",
   "execution_count": 2,
   "metadata": {
    "collapsed": true
   },
   "outputs": [],
   "source": [
    "def features_extraction(sig, rate, nfft=2048, **kwargs):\n",
    "    \"\"\"Compute mean and standard deviation of each MFCCs from an audio signal.\n",
    "    :param signal: the audio signal from which to compute features. Should be an N*1 array\n",
    "    :param samplerate: the samplerate of the signal we are working with.\n",
    "    :param winlen: the length of the analysis window in seconds. Default is 0.025s (25 milliseconds)\n",
    "    :param winstep: the step between successive windows in seconds. Default is 0.01s (10 milliseconds)\n",
    "    :param numcep: the number of cepstrum to return, default 13\n",
    "    :param nfilt: the number of filters in the filterbank, default 26.\n",
    "    :param nfft: the FFT size. Default is 2048.\n",
    "    :param lowfreq: lowest band edge of mel filters. In Hz, default is 0.\n",
    "    :param highfreq: highest band edge of mel filters. In Hz, default is samplerate/2\n",
    "    :param preemph: apply preemphasis filter with preemph as coefficient. 0 is no filter. Default is 0.97.\n",
    "    :param ceplifter: apply a lifter to final cepstral coefficients. 0 is no lifter. Default is 22.\n",
    "    :param appendEnergy: if this is true, the zeroth cepstral coefficient is replaced with the log of the total frame energy.\n",
    "    :param winfunc: the analysis window to apply to each frame. By default no window is applied. You can use numpy window functions here e.g. winfunc=numpy.hamming\n",
    "    :returns: Two numpy arrays of size (numcep,). First vector contains mean of MFCCs, second - standard deviation of MFCCs\n",
    "    \"\"\"\n",
    "    mfcc_feat = mfcc(sig, rate, nfft=nfft, **kwargs)\n",
    "    mfcc_mean = mfcc_feat.mean(axis=0)\n",
    "    mfcc_std = mfcc_feat.std(axis=0)\n",
    "    return mfcc_mean, mfcc_std"
   ]
  },
  {
   "cell_type": "code",
   "execution_count": 69,
   "metadata": {},
   "outputs": [],
   "source": [
    "DATASET = './datasets/toronto/'\n",
    "\n",
    "categorie_folders = [name for name in os.listdir(DATASET) if os.path.isdir(DATASET+name)]\n",
    "categories = {}\n",
    "category_N = 0\n",
    "for category in categorie_folders:\n",
    "    categories[category_N] = category\n",
    "    category_N += 1"
   ]
  },
  {
   "cell_type": "code",
   "execution_count": 132,
   "metadata": {},
   "outputs": [
    {
     "name": "stdout",
     "output_type": "stream",
     "text": [
      "ValueError: ./datasets/toronto/Angry/YAF_germ_angry.wav\n"
     ]
    },
    {
     "name": "stderr",
     "output_type": "stream",
     "text": [
      "WARNING:root:frame length (2400) is greater than FFT size (2048), frame will be truncated. Increase NFFT to avoid.\n"
     ]
    },
    {
     "name": "stdout",
     "output_type": "stream",
     "text": [
      "ValueError: ./datasets/toronto/Fear/YAF_neat_fear.wav\n"
     ]
    }
   ],
   "source": [
    "dataset_toronto = np.zeros((0, 27))\n",
    "for category_N, category in categories.items():\n",
    "    waves = [f for f in os.listdir(DATASET+category) if f.endswith('.wav')]\n",
    "    for wav in waves:\n",
    "        try:\n",
    "            rate, sig = wavfile.read(DATASET+category + '/' + wav)\n",
    "        except ValueError:\n",
    "            print('ValueError: '+DATASET+category + '/' + wav)\n",
    "            continue\n",
    "        mfcc_mean, mfcc_std = features_extraction(sig, rate)\n",
    "        features = np.concatenate((mfcc_mean, mfcc_std, [category_N])).reshape(1,27)\n",
    "        dataset_toronto = np.concatenate((dataset_toronto, features))           "
   ]
  },
  {
   "cell_type": "code",
   "execution_count": 133,
   "metadata": {},
   "outputs": [
    {
     "data": {
      "text/plain": [
       "(2798, 27)"
      ]
     },
     "execution_count": 133,
     "metadata": {},
     "output_type": "execute_result"
    }
   ],
   "source": [
    "dataset_toronto.shape"
   ]
  }
 ],
 "metadata": {
  "kernelspec": {
   "display_name": "Python 3",
   "language": "python",
   "name": "python3"
  },
  "language_info": {
   "codemirror_mode": {
    "name": "ipython",
    "version": 3
   },
   "file_extension": ".py",
   "mimetype": "text/x-python",
   "name": "python",
   "nbconvert_exporter": "python",
   "pygments_lexer": "ipython3",
   "version": "3.6.2"
  }
 },
 "nbformat": 4,
 "nbformat_minor": 2
}
