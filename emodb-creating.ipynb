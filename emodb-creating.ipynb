{
 "cells": [
  {
   "cell_type": "code",
   "execution_count": 16,
   "metadata": {},
   "outputs": [],
   "source": [
    "import os\n",
    "import shutil"
   ]
  },
  {
   "cell_type": "code",
   "execution_count": null,
   "metadata": {},
   "outputs": [],
   "source": [
    "def cp_files(wav, emotion):\n",
    "    shutil.copy(os.path.join(path,wav),os.path.join(datasets,emotion))"
   ]
  },
  {
   "cell_type": "code",
   "execution_count": 30,
   "metadata": {},
   "outputs": [],
   "source": [
    "path = 'datasets/emo-db/wav/'\n",
    "datasets = 'datasets/emodb'\n",
    "wavs = [f for f in os.listdir(path) if f.endswith(\".wav\")]\n",
    "dirs = ['anger','boredom','disgust','fear','happy','sad','neutral']\n",
    "for d in dirs:\n",
    "    p  = os.path.join(datasets,d)\n",
    "    shutil.rmtree(p)\n",
    "    if not os.path.exists(p):\n",
    "        os.makedirs(p)"
   ]
  },
  {
   "cell_type": "code",
   "execution_count": 31,
   "metadata": {},
   "outputs": [],
   "source": [
    "for wav in wavs:\n",
    "    emotion = wav[-6]\n",
    "    if emotion=='W':\n",
    "        cp_files(wav,'anger')\n",
    "    elif emotion=='L':\n",
    "        cp_files(wav,'boredom')\n",
    "    elif emotion=='E':\n",
    "        cp_files(wav,'disgust')\n",
    "    elif emotion=='A':\n",
    "        cp_files(wav,'fear')\n",
    "    elif emotion=='F':\n",
    "        cp_files(wav,'happy')\n",
    "    elif emotion=='T':\n",
    "        cp_files(wav,'sad')\n",
    "    elif emotion=='N':\n",
    "        cp_files(wav,'neutral')\n",
    "    else:\n",
    "        print(emotion)"
   ]
  }
 ],
 "metadata": {
  "kernelspec": {
   "display_name": "Python 3",
   "language": "python",
   "name": "python3"
  },
  "language_info": {
   "codemirror_mode": {
    "name": "ipython",
    "version": 3
   },
   "file_extension": ".py",
   "mimetype": "text/x-python",
   "name": "python",
   "nbconvert_exporter": "python",
   "pygments_lexer": "ipython3",
   "version": "3.6.3"
  }
 },
 "nbformat": 4,
 "nbformat_minor": 2
}
